{
 "cells": [
  {
   "cell_type": "markdown",
   "id": "11655799",
   "metadata": {},
   "source": [
    "# UK School Performance Data Mining"
   ]
  },
  {
   "cell_type": "markdown",
   "id": "57418339",
   "metadata": {},
   "source": [
    "This is the first notebook in my *Analysis of UK School Performance** Exploratory Data Analysis (EDA) project. \n",
    "\n",
    "The focus of this notebook is to collect the data needed in order to analyse the effect of the proportion of students with English as an additional language (EAL) on the performance of schools in the UK.\n",
    "\n",
    "I will scrape the *gov.uk* website in order to obtain data on the percentage of EAL students and performance of every school in the UK. \n",
    "\n",
    "## Acknowledgements\n",
    "\n",
    "I have scraped the *gov.uk* website in order to obtain data on the percentage of EAL students and performance of every school in the UK.\n",
    "\n",
    "Contains public sector information licensed under the Open Government Licence v3.0."
   ]
  }
 ],
 "metadata": {
  "kernelspec": {
   "display_name": "Python 3 (ipykernel)",
   "language": "python",
   "name": "python3"
  },
  "language_info": {
   "codemirror_mode": {
    "name": "ipython",
    "version": 3
   },
   "file_extension": ".py",
   "mimetype": "text/x-python",
   "name": "python",
   "nbconvert_exporter": "python",
   "pygments_lexer": "ipython3",
   "version": "3.8.16"
  }
 },
 "nbformat": 4,
 "nbformat_minor": 5
}
