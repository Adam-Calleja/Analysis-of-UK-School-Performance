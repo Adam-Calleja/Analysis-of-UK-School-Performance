{
 "cells": [
  {
   "cell_type": "markdown",
   "id": "11655799",
   "metadata": {},
   "source": [
    "# UK School Performance Data Mining"
   ]
  },
  {
   "cell_type": "markdown",
   "id": "57418339",
   "metadata": {},
   "source": [
    "This is the first notebook in my *Analysis of UK School Performance* Exploratory Data Analysis (EDA) project. \n",
    "\n",
    "The focus of this notebook is to collect the data needed in order to analyse the effect of the proportion of students with English as an additional language (EAL) on the performance of schools in the UK.\n",
    "\n",
    "I will scrape the *gov.uk* website in order to obtain the relevant data."
   ]
  },
  {
   "cell_type": "markdown",
   "id": "7d3b837e",
   "metadata": {},
   "source": [
    "## Obtaining the proportion of EAL students from one school\n",
    "\n",
    "Before creating a script to collect data for each school in the UK, I will collect data about the proportion of EAL students for one primary school in the UK. For the sake of this notebook, I will be collect the data for Milton Road Primary School, Cambridge.\n",
    "\n",
    "*NOTE: The gov.uk website blocks requests with a user agent of **python-requests**. As a result I needed to change the user agent to my user agent, however I have not added my user agent in this notebook. To run the cell below you must insert your user agent, which can be found with a Google search.*"
   ]
  },
  {
   "cell_type": "code",
   "execution_count": null,
   "id": "94e96dec",
   "metadata": {},
   "outputs": [
    {
     "name": "stdout",
     "output_type": "stream",
     "text": [
      "39.0% of students at Milton Road Primary School have English as a second langauge.\n"
     ]
    }
   ],
   "source": [
    "# Below I import the necessary libraries.\n",
    "import requests\n",
    "from bs4 import BeautifulSoup\n",
    "\n",
    "# Since the gov.uk website blocks requests with a user agent of python-requests, I have changed my user agent below (however I have not included\n",
    "# it in this notebook). To make this code run, you must replace 'your user-agent' with your own user agent which can be found with a Google search.\n",
    "headers = {'User-Agent': 'your user-agent'}\n",
    "\n",
    "# I now request the page containing pupil population information for Milton Road Primary School\n",
    "page = requests.get(\"https://www.compare-school-performance.service.gov.uk/school/133930/milton-road-primary-school/absence-and-pupil-population\", headers=headers)\n",
    "soup = BeautifulSoup(page.content, 'html.parser')\n",
    "\n",
    "# I now collect the data containing the percentage of students with English as a second language.\n",
    "rows = soup.select(\"div #school-abspp-pupil-population-container table tr\")\n",
    "for iRowIndex in range(len(rows)):\n",
    "    rowText = rows[iRowIndex].select(\".text.label\")[0]\n",
    "    if rowText and rowText.contents[0].strip() == \"Pupils whose first language is not English\":\n",
    "        row = rows[iRowIndex]\n",
    "\n",
    "sPercentageEAL = row.select(\"td[headers='school']\")[0].contents[0].strip()\n",
    "fPercentageEAL = float(sPercentageEAL.strip(\"%\"))\n",
    "\n",
    "print(f\"{fPercentageEAL}% of students at Milton Road Primary School have English as a second langauge.\")"
   ]
  },
  {
   "cell_type": "markdown",
   "id": "7cd52a75",
   "metadata": {},
   "source": [
    "\n",
    "## Acknowledgements\n",
    "\n",
    "I have scraped the *gov.uk* website in order to obtain data on the percentage of EAL students and performance of every school in the UK.\n",
    "\n",
    "Contains public sector information licensed under the Open Government Licence v3.0."
   ]
  }
 ],
 "metadata": {
  "kernelspec": {
   "display_name": "Python 3 (ipykernel)",
   "language": "python",
   "name": "python3"
  },
  "language_info": {
   "codemirror_mode": {
    "name": "ipython",
    "version": 3
   },
   "file_extension": ".py",
   "mimetype": "text/x-python",
   "name": "python",
   "nbconvert_exporter": "python",
   "pygments_lexer": "ipython3",
   "version": "3.8.16"
  }
 },
 "nbformat": 4,
 "nbformat_minor": 5
}
