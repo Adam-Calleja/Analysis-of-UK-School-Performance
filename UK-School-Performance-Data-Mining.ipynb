{
 "cells": [
  {
   "cell_type": "markdown",
   "id": "11655799",
   "metadata": {},
   "source": [
    "# UK School Performance Data Mining"
   ]
  },
  {
   "cell_type": "markdown",
   "id": "57418339",
   "metadata": {},
   "source": [
    "This is the first notebook in my *Analysis of UK School Performance* Exploratory Data Analysis (EDA) project. \n",
    "\n",
    "The focus of this notebook is to collect the data needed in order to analyse the effect of the proportion of students with English as an additional language (EAL) on the performance of schools in the UK.\n",
    "\n",
    "I have obtained the *UK-Establishment-Data.csv* data set from the *gov.uk* website, which contains information for every educational establishment in the UK. However this data set does not contain any data on the proportion of pupils with EAL, nor the academic performance of the school. As a result, I will scrape the *gov.uk* website in order to obtain the relevant data."
   ]
  },
  {
   "cell_type": "markdown",
   "metadata": {},
   "source": [
    "## Obtaining my user agent\n",
    "\n",
    "The gov.uk website blocks requests with a user agent of *python-requests*. As a result I needed to change the user agent to my user agent. Since I do not want to share my user agent I have saved it into the file *private/my-user-agent.txt* which git ignores.\n",
    "\n",
    "I will now read my user agent from the file *private/my-user-agent.txt* and save it into the variable *sUserAgent*.\n",
    "\n",
    "*NOTE: To use this notebook you must store your user agent in the variable **sUserAgent**.*"
   ]
  },
  {
   "cell_type": "code",
   "execution_count": 1,
   "metadata": {},
   "outputs": [],
   "source": [
    "# Below I read in my user agent and store it in the variable sUserAgent.\n",
    "fUserAgent = open(\"private/my-user-agent.txt\", \"r\")\n",
    "\n",
    "sUserAgent = fUserAgent.read()\n",
    "\n",
    "fUserAgent.close()"
   ]
  },
  {
   "cell_type": "markdown",
   "id": "7d3b837e",
   "metadata": {},
   "source": [
    "## Obtaining the proportion of EAL students from one school\n",
    "\n",
    "Before creating a script to collect data for each school in the UK, I will collect data about the proportion of EAL students for one primary school in the UK. For the sake of this notebook, I will be collect the data for Milton Road Primary School, Cambridge."
   ]
  },
  {
   "cell_type": "code",
   "execution_count": 2,
   "id": "94e96dec",
   "metadata": {},
   "outputs": [
    {
     "name": "stdout",
     "output_type": "stream",
     "text": [
      "39.0% of students at Milton Road Primary School have English as a second langauge.\n"
     ]
    }
   ],
   "source": [
    "# Below I import the necessary libraries.\n",
    "import requests\n",
    "from bs4 import BeautifulSoup\n",
    "\n",
    "# Since the gov.uk website blocks requests with a user agent of python-requests, I have changed my user agent below (however I have not included\n",
    "# it in this notebook). To make this code run, you must replace 'your user-agent' with your own user agent which can be found with a Google search.\n",
    "headers = {'User-Agent': sUserAgent}\n",
    "\n",
    "# I now request the page containing pupil population information for Milton Road Primary School\n",
    "page = requests.get(\"https://www.compare-school-performance.service.gov.uk/school/133930/milton-road-primary-school/absence-and-pupil-population\", headers=headers)\n",
    "soup = BeautifulSoup(page.content, 'html.parser')\n",
    "\n",
    "# I now collect the data containing the percentage of students with English as a second language.\n",
    "rows = soup.select(\"div #school-abspp-pupil-population-container table tr\")\n",
    "for iRowIndex in range(len(rows)):\n",
    "    rowText = rows[iRowIndex].select(\".text.label\")[0]\n",
    "    if rowText and rowText.contents[0].strip() == \"Pupils whose first language is not English\":\n",
    "        row = rows[iRowIndex]\n",
    "\n",
    "sPercentageEAL = row.select(\"td[headers='school']\")[0].contents[0].strip()\n",
    "fPercentageEAL = float(sPercentageEAL.strip(\"%\"))\n",
    "\n",
    "print(f\"{fPercentageEAL}% of students at Milton Road Primary School have English as a second langauge.\")"
   ]
  },
  {
   "cell_type": "markdown",
   "id": "6e31c6d1",
   "metadata": {},
   "source": [
    "## Obtaining the proportion of EAL students for every school in the UK\n",
    "\n",
    "I will now write an automated Python script to collect data about the proportion of EAL students for every school in the UK. In order to collect this data, I will iterate over every row of the *UK-Establishment-Data.csv* data set to obtain the school's name and URN. I will then scrape the relevant data for each school from the *gov.uk* website. "
   ]
  },
  {
   "cell_type": "markdown",
   "id": "24ecf0f8",
   "metadata": {},
   "source": [
    "I will first import all of the necessary libraries and load the *UK-Establishment-Data.csv* data set into a pandas DataFrame object."
   ]
  },
  {
   "cell_type": "code",
   "execution_count": 5,
   "id": "3eebaf3e",
   "metadata": {},
   "outputs": [
    {
     "name": "stderr",
     "output_type": "stream",
     "text": [
      "C:\\Users\\Adam\\AppData\\Local\\Temp\\ipykernel_13076\\3277557559.py:9: DtypeWarning: Columns (31,38,46,48,50,51,55,72,73,81,86,87,88,89,90,91,92,93,94,95,96,117,120,121,125,126,129,139) have mixed types. Specify dtype option on import or set low_memory=False.\n",
      "  dfEstabishmentData = pd.read_csv('UK-Establishment-Data.csv', encoding='latin-1')\n"
     ]
    }
   ],
   "source": [
    "# Below I import the necessary libraries.\n",
    "import requests\n",
    "from bs4 import BeautifulSoup\n",
    "import pandas as pd\n",
    "import numpy as np\n",
    "from joblib import Parallel, delayed\n",
    "\n",
    "# I will first load the 'UK-Establishment-Data.csv* data set into a pd DataFrame object. \n",
    "dfEstabishmentData = pd.read_csv('UK-Establishment-Data.csv', encoding='latin-1')\n",
    "\n",
    "# For the moment, we are only interested in each school's name and URN, so we will filter out all other columns. \n",
    "dfEstabishmentData = dfEstabishmentData[['EstablishmentName', 'URN']]\n"
   ]
  },
  {
   "cell_type": "markdown",
   "id": "9cf02a33",
   "metadata": {},
   "source": [
    "I will now iterate through each row of my *dfEstablishmentData* DataFrame and scrape the necessary information for each school. For each school I will request the web page containing the percentage of EAL students enrolled in that school. In order to obtain the URL of this web page, I will use the general form of the *gov.uk* URL, which I found by exploring the web pages for various different schools. This general form can be seen below:\n",
    "\n",
    "    https://www.compare-school-performance.service.gov.uk/school/school-URN/school-name/absence-and-pupil-population\n",
    "\n",
    "Where *school-URN* and *school-name* should be replaced by the school's URN and name respectively. \n",
    "\n",
    "In order to increase the efficiency of our code I am going to implement paralelisation using the joblib library."
   ]
  },
  {
   "cell_type": "code",
   "execution_count": 4,
   "id": "a6df9507",
   "metadata": {},
   "outputs": [],
   "source": [
    "def getPercentageEALs(dfEstabishmentData):\n",
    "    \"\"\"\n",
    "    Returns a pandas DataFrame containing the URN and percentage of EAL students for each school in the input DataFrame.\n",
    "\n",
    "    This function is created to utilise the joblib library. \n",
    "\n",
    "    Parameters:\n",
    "    ----------\n",
    "    dfEstablishmentData: pandas DataFrame\n",
    "                         The pandas DataFrame containing the name and URN for each school in the DataFrame.\n",
    "\n",
    "    Returns:\n",
    "    ----------\n",
    "    dfMinedData: pandas DataFrame\n",
    "                 A pandas DataFrame containing thu URN and percentage of students with EAL. For schools where this data is not recorded, the DataFrame\n",
    "                 has the value NaN.\n",
    "\n",
    "\n",
    "    \"\"\"\n",
    "\n",
    "    # Since the gov.uk website blocks requests with a user agent of python-requests, I will first change my user agent below (however I have not included\n",
    "    # it in this notebook). To make this code run, you must replace 'your user-agent' with your own user agent which can be found with a Google search.\n",
    "    headers = {'User-Agent': sUserAgent}\n",
    "\n",
    "    # I will now initialize a pd DataFrame which will store the data I am interested in.\n",
    "    dfMinedData = pd.DataFrame()\n",
    "\n",
    "    # I will now initialize two lists, which will store the data that I will add to the DataFrame 'dfMinedData'\n",
    "    schoolURNs = []\n",
    "    schoolPercentageEALs = []\n",
    "\n",
    "    for iSchoolIndex in dfEstabishmentData.index:\n",
    "        sName = \"-\".join(dfEstabishmentData.loc[iSchoolIndex, \"EstablishmentName\"].split()).lower()\n",
    "        sURN = dfEstabishmentData.loc[iSchoolIndex, \"URN\"]\n",
    "\n",
    "        schoolURNs.append(sURN)\n",
    "        \n",
    "        sURL = f\"https://www.compare-school-performance.service.gov.uk/school/{sURN}/{sName}/absence-and-pupil-population\"\n",
    "\n",
    "        # I now request the page containing pupil population information for Milton Road Primary School\n",
    "        page = requests.get(sURL, headers=headers)\n",
    "        soup = BeautifulSoup(page.content, 'html.parser')\n",
    "\n",
    "        # I now collect the data containing the percentage of students with English as a second language.\n",
    "        rows = soup.select(\"div #school-abspp-pupil-population-container table tr\")\n",
    "        for iRowIndex in range(len(rows)):\n",
    "            rowText = rows[iRowIndex].select(\".text.label\")[0]\n",
    "            if rowText and rowText.contents[0].strip() == \"Pupils whose first language is not English\":\n",
    "                row = rows[iRowIndex]\n",
    "            \n",
    "        if len(rows) == 0:\n",
    "            schoolPercentageEALs.append('Incorrect URL')\n",
    "            continue \n",
    "                \n",
    "        sPercentageEAL = row.select(\"td[headers='school']\")[0].contents[0].strip()\n",
    "\n",
    "        if sPercentageEAL == \"\":\n",
    "            schoolPercentageEALs.append(np.nan)\n",
    "        else:\n",
    "            schoolPercentageEALs.append(float(sPercentageEAL.strip(\"%\")))\n",
    "\n",
    "        if len(schoolURNs) != len(schoolPercentageEALs):\n",
    "            print('not same length')\n",
    "\n",
    "    dfMinedData['URN'] = schoolURNs\n",
    "    dfMinedData['PercentageEAL'] = schoolPercentageEALs\n",
    "\n",
    "    return dfMinedData\n",
    "\n",
    "# I now split the DataFrame of school names into 8 separate DataFrames to allow me to use the joblib library.\n",
    "lSplitEstablishmentData = np.array_split(dfEstabishmentData, 8)\n",
    "\n",
    "# I now implement parallelisation using the joblib library to obtain a DataFrame containing the percentage of EAL students for each UK school.\n",
    "lMinedDataDFs = Parallel(n_jobs=8)(delayed(getPercentageEALs)(df) for df in lSplitEstablishmentData)\n",
    "\n",
    "dfMinedData = pd.concat(lMinedDataDFs)"
   ]
  },
  {
   "cell_type": "markdown",
   "metadata": {},
   "source": [
    "I will now output the first and last 5 rows of my mined DataFrame to help get an idea of the data included. "
   ]
  },
  {
   "cell_type": "code",
   "execution_count": 33,
   "id": "0688ee90",
   "metadata": {},
   "outputs": [
    {
     "data": {
      "text/html": [
       "<div>\n",
       "<style scoped>\n",
       "    .dataframe tbody tr th:only-of-type {\n",
       "        vertical-align: middle;\n",
       "    }\n",
       "\n",
       "    .dataframe tbody tr th {\n",
       "        vertical-align: top;\n",
       "    }\n",
       "\n",
       "    .dataframe thead th {\n",
       "        text-align: right;\n",
       "    }\n",
       "</style>\n",
       "<table border=\"1\" class=\"dataframe\">\n",
       "  <thead>\n",
       "    <tr style=\"text-align: right;\">\n",
       "      <th></th>\n",
       "      <th>URN</th>\n",
       "      <th>PercentageEAL</th>\n",
       "    </tr>\n",
       "  </thead>\n",
       "  <tbody>\n",
       "    <tr>\n",
       "      <th>0</th>\n",
       "      <td>100000</td>\n",
       "      <td>53.5</td>\n",
       "    </tr>\n",
       "    <tr>\n",
       "      <th>1</th>\n",
       "      <td>100001</td>\n",
       "      <td>NaN</td>\n",
       "    </tr>\n",
       "    <tr>\n",
       "      <th>2</th>\n",
       "      <td>100002</td>\n",
       "      <td>NaN</td>\n",
       "    </tr>\n",
       "    <tr>\n",
       "      <th>3</th>\n",
       "      <td>100003</td>\n",
       "      <td>NaN</td>\n",
       "    </tr>\n",
       "    <tr>\n",
       "      <th>4</th>\n",
       "      <td>100004</td>\n",
       "      <td>Incorrect URL</td>\n",
       "    </tr>\n",
       "    <tr>\n",
       "      <th>...</th>\n",
       "      <td>...</td>\n",
       "      <td>...</td>\n",
       "    </tr>\n",
       "    <tr>\n",
       "      <th>6308</th>\n",
       "      <td>402465</td>\n",
       "      <td>Incorrect URL</td>\n",
       "    </tr>\n",
       "    <tr>\n",
       "      <th>6309</th>\n",
       "      <td>402466</td>\n",
       "      <td>Incorrect URL</td>\n",
       "    </tr>\n",
       "    <tr>\n",
       "      <th>6310</th>\n",
       "      <td>402467</td>\n",
       "      <td>Incorrect URL</td>\n",
       "    </tr>\n",
       "    <tr>\n",
       "      <th>6311</th>\n",
       "      <td>402468</td>\n",
       "      <td>Incorrect URL</td>\n",
       "    </tr>\n",
       "    <tr>\n",
       "      <th>6312</th>\n",
       "      <td>402469</td>\n",
       "      <td>Incorrect URL</td>\n",
       "    </tr>\n",
       "  </tbody>\n",
       "</table>\n",
       "<p>50509 rows × 2 columns</p>\n",
       "</div>"
      ],
      "text/plain": [
       "         URN  PercentageEAL\n",
       "0     100000           53.5\n",
       "1     100001            NaN\n",
       "2     100002            NaN\n",
       "3     100003            NaN\n",
       "4     100004  Incorrect URL\n",
       "...      ...            ...\n",
       "6308  402465  Incorrect URL\n",
       "6309  402466  Incorrect URL\n",
       "6310  402467  Incorrect URL\n",
       "6311  402468  Incorrect URL\n",
       "6312  402469  Incorrect URL\n",
       "\n",
       "[50509 rows x 2 columns]"
      ]
     },
     "execution_count": 33,
     "metadata": {},
     "output_type": "execute_result"
    }
   ],
   "source": [
    "dfMinedData"
   ]
  },
  {
   "cell_type": "markdown",
   "metadata": {},
   "source": [
    "As you can see from the code output above, the DataFrame contains both *NaN* and *Incorrect URL* values:\n",
    "- Schools with values of *NaN* do not have any data on the .gov website for the field in question. \n",
    "- Schools with values of *Incorrect URL* are missing data because we have an incorrect URL. This may be because:\n",
    "    - We have an incorrect URN number.\n",
    "    - We have an incorrect school name. \n",
    "    - The school no longer exists."
   ]
  },
  {
   "cell_type": "code",
   "execution_count": 37,
   "id": "6cddf9f8",
   "metadata": {},
   "outputs": [
    {
     "data": {
      "text/plain": [
       "0.46765922904828844"
      ]
     },
     "execution_count": 37,
     "metadata": {},
     "output_type": "execute_result"
    }
   ],
   "source": [
    "# Below I calculate and display the percentages of missing data for two reasons.\n",
    "iURL = sum(dfMinedData['PercentageEAL'] == 'Incorrect URL')/len(dfMinedData)\n",
    "iNaN = dfMinedData['PercentageEAL'].isna().sum()/len(dfMinedData)\n",
    "\n",
    "print(f\"{iURL*100}% of our data is missing because we have the wrong URN number.\")\n",
    "print(f\"{iNaN*100}% of our data is missing because the schools did not record the data we needed.\")"
   ]
  },
  {
   "cell_type": "markdown",
   "metadata": {},
   "source": [
    "As you can see from the output of the code cell above, we are missing data for almost half of the schools in the UK because we have an incorrect URL. As a result, I am now going to use a different approach. "
   ]
  },
  {
   "cell_type": "markdown",
   "id": "7cd52a75",
   "metadata": {},
   "source": [
    "\n",
    "## Acknowledgements\n",
    "\n",
    "I have scraped the *gov.uk* website in order to obtain data on the percentage of EAL students and performance of every school in the UK.\n",
    "\n",
    "Contains public sector information licensed under the Open Government Licence v3.0."
   ]
  }
 ],
 "metadata": {
  "kernelspec": {
   "display_name": "Python 3 (ipykernel)",
   "language": "python",
   "name": "python3"
  },
  "language_info": {
   "codemirror_mode": {
    "name": "ipython",
    "version": 3
   },
   "file_extension": ".py",
   "mimetype": "text/x-python",
   "name": "python",
   "nbconvert_exporter": "python",
   "pygments_lexer": "ipython3",
   "version": "3.8.16"
  }
 },
 "nbformat": 4,
 "nbformat_minor": 5
}
